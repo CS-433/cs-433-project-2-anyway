{
 "cells": [
  {
   "cell_type": "code",
   "execution_count": 1,
   "metadata": {},
   "outputs": [],
   "source": [
    "import torch\n",
    "import torch.nn as nn\n",
    "import torch.nn.functional as F\n",
    "from torch.autograd import Variable\n",
    "import os\n",
    "from math import sqrt as sqrt\n",
    "import numpy as np\n",
    "import itertools\n",
    "from torch.autograd import Function\n",
    "import torch.nn.init as init\n",
    "from ssd_project.model import ssd\n",
    "from ssd_project.functions.detection import *\n",
    "import glob\n",
    "import matplotlib.pyplot as plt\n",
    "import seaborn as sns\n",
    "import pandas as pd\n",
    "import matplotlib.pyplot as plt\n"
   ]
  },
  {
   "cell_type": "code",
   "execution_count": 2,
   "metadata": {},
   "outputs": [],
   "source": [
    "import os\n",
    "os.chdir(r\"C:/Users/Xiaorang/Desktop/Project/SSD_FacadeParsing/\")"
   ]
  },
  {
   "cell_type": "code",
   "execution_count": 3,
   "metadata": {},
   "outputs": [],
   "source": [
    "best_model = torch.load(\"./saved_models/Best_model_ssd300.pth.tar\")\n",
    "model = ssd.build_ssd(num_classes = 4)\n",
    "model.load_state_dict(best_model[\"model_state_dict\"])\n",
    "device = \"cuda\"\n",
    "model = model.to(device)"
   ]
  },
  {
   "cell_type": "code",
   "execution_count": 4,
   "metadata": {},
   "outputs": [],
   "source": [
    "epochs_trained = best_model[\"epoch\"]\n",
    "best_avg_loss = best_model[\"loss\"]\n",
    "t_loss_bvals = best_model[\"training_losses_batch_values\"]\n",
    "t_loss_bavgs = best_model[\"training_losses_batch_avgs\"]\n",
    "v_loss_bvals = best_model[\"validation_losses_batch_values\"]\n",
    "v_loss_bavgs = best_model[\"validation_losses_batch_avgs\"]"
   ]
  },
  {
   "cell_type": "code",
   "execution_count": 5,
   "metadata": {},
   "outputs": [
    {
     "data": {
      "text/plain": [
       "3.3953616943359375"
      ]
     },
     "execution_count": 5,
     "metadata": {},
     "output_type": "execute_result"
    }
   ],
   "source": [
    "best_avg_loss"
   ]
  },
  {
   "cell_type": "code",
   "execution_count": 6,
   "metadata": {},
   "outputs": [],
   "source": [
    "imgs = glob.glob(\"./data/test_images/*\")\n",
    "imgs.sort()"
   ]
  },
  {
   "cell_type": "code",
   "execution_count": 7,
   "metadata": {},
   "outputs": [
    {
     "data": {
      "text/plain": [
       "60"
      ]
     },
     "execution_count": 7,
     "metadata": {},
     "output_type": "execute_result"
    }
   ],
   "source": [
    "len(imgs)"
   ]
  },
  {
   "cell_type": "code",
   "execution_count": 8,
   "metadata": {},
   "outputs": [],
   "source": [
    "def return_num_img(img_path):\n",
    "    arr = img_path.split(\"/\")\n",
    "    name = arr[len(arr)-1]\n",
    "    arr = name.split(\"_\")\n",
    "    num = arr[len(arr)-1].split(\".\")[0]\n",
    "    \n",
    "    return num"
   ]
  },
  {
   "cell_type": "code",
   "execution_count": 9,
   "metadata": {},
   "outputs": [
    {
     "name": "stderr",
     "output_type": "stream",
     "text": [
      "C:\\Users\\Xiaorang\\anaconda3\\lib\\site-packages\\ssd_project\\functions\\detection.py:144: UserWarning: indexing with dtype torch.uint8 is now deprecated, please use a dtype torch.bool instead. (Triggered internally at  ..\\aten\\src\\ATen/native/IndexingUtils.h:25.)\n",
      "  bboxes_nms = class_decoded_locs[1 - suppress]\n",
      "C:\\Users\\Xiaorang\\anaconda3\\lib\\site-packages\\ssd_project\\functions\\detection.py:146: UserWarning: indexing with dtype torch.uint8 is now deprecated, please use a dtype torch.bool instead. (Triggered internally at  ..\\aten\\src\\ATen/native/IndexingUtils.h:25.)\n",
      "  scores_nms = class_scores[1 - suppress]\n"
     ]
    }
   ],
   "source": [
    "path_to_save = \"./data/predictions_test/\"\n",
    "for i, img in enumerate(imgs):\n",
    "    \n",
    "    pred_img, bboxes, labels, scores = predict_objects(model, img, min_score=0.2, max_overlap = 0.01, top_k=200)\n",
    "    annotated_img = FT.to_pil_image(draw_detected_objects(img, bboxes, labels, scores))\n",
    "    num = return_num_img(img)\n",
    "    \n",
    "    path_img = path_to_save + \"annotated_img_\" + str(i) + \".png\"\n",
    "    annotated_img.save(path_img, \"PNG\")"
   ]
  },
  {
   "cell_type": "code",
   "execution_count": null,
   "metadata": {},
   "outputs": [],
   "source": []
  }
 ],
 "metadata": {
  "kernelspec": {
   "display_name": "Python 3",
   "language": "python",
   "name": "python3"
  },
  "language_info": {
   "codemirror_mode": {
    "name": "ipython",
    "version": 3
   },
   "file_extension": ".py",
   "mimetype": "text/x-python",
   "name": "python",
   "nbconvert_exporter": "python",
   "pygments_lexer": "ipython3",
   "version": "3.8.3"
  }
 },
 "nbformat": 4,
 "nbformat_minor": 2
}
